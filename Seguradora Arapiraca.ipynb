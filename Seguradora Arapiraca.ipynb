{
 "cells": [
  {
   "cell_type": "markdown",
   "metadata": {
    "ExecuteTime": {
     "end_time": "2020-11-11T02:31:10.412369Z",
     "start_time": "2020-11-11T02:31:10.405390Z"
    }
   },
   "source": [
    "<br><p style=\"font-family: Arial; font-size:3.75em;color:blue; font-style:bold\">\n",
    "Campanha de Telemarketing </p><br><br>"
   ]
  },
  {
   "cell_type": "markdown",
   "metadata": {},
   "source": [
    "**Autor:** Emerson Aguiar <br>\n",
    "**Data última atualização:** 21/08/2020 <br>\n",
    "**Objetivo:** Desenvolver um modelo de probabilidade de fraude para sinistro que envolveram colisão de veículos."
   ]
  },
  {
   "cell_type": "code",
   "execution_count": 47,
   "metadata": {
    "ExecuteTime": {
     "end_time": "2020-11-11T16:22:35.665379Z",
     "start_time": "2020-11-11T16:22:35.657400Z"
    }
   },
   "outputs": [],
   "source": [
    "# Bibliotecas\n",
    "import pandas as pd\n",
    "import numpy as np\n",
    "from sklearn import preprocessing\n",
    "import matplotlib.pyplot as plt \n",
    "plt.rc(\"font\", size=14)\n",
    "from sklearn.linear_model import LogisticRegression\n",
    "from sklearn.model_selection import train_test_split\n",
    "import seaborn as sns\n",
    "%matplotlib inline\n",
    "\n",
    "sns.set(style=\"white\")\n",
    "sns.set(style=\"whitegrid\", color_codes=True)\n",
    "\n",
    "# Não ter problemas com os warnings dos pacotes\n",
    "import warnings\n",
    "warnings.filterwarnings('ignore')"
   ]
  },
  {
   "cell_type": "markdown",
   "metadata": {},
   "source": [
    "# O problema"
   ]
  },
  {
   "cell_type": "markdown",
   "metadata": {},
   "source": [
    "A Seguradora Arapiraca está direcionando uma campanha de telemarketing para um de seus produtos. Porém, antes de iniciar a campanha o gerente responsável entrou em contato com a equipe de ciência de dados, pois tinha algumas preocupações:\n",
    "* Durante a campanha de 2019, devido ao incômodo gerado pela ligação, alguns clientes resolveram cancelar suas contas no banco.\n",
    "* O valor aplicado para a campanha permite que sejam feitas 2 mil ligações.\n",
    "* Espera-se que pelo menos 600 contratos sejam fechados, para garantir a meta da área e evitar a demissão do gerente.\n",
    "\n",
    "Em 2019, foram realizadas cerca de 42 mil ligações numa campanha para o mesmo produto. A área possui uma base de dados com informações de cada cliente e com a marcação se ele fechou ou não acordo naquela campanha."
   ]
  },
  {
   "cell_type": "markdown",
   "metadata": {},
   "source": [
    "# Dados"
   ]
  },
  {
   "cell_type": "code",
   "execution_count": 2,
   "metadata": {
    "ExecuteTime": {
     "end_time": "2020-11-11T16:18:01.274030Z",
     "start_time": "2020-11-11T16:18:00.994777Z"
    }
   },
   "outputs": [
    {
     "name": "stdout",
     "output_type": "stream",
     "text": [
      "Dimensões da base de dados: (41188, 19)\n"
     ]
    }
   ],
   "source": [
    "db = pd.read_csv('banking.csv', header=0)\n",
    "db = db.dropna()\n",
    "# Remove variáveis que são dependentes da explicativa\n",
    "db = db.drop(['duration', 'campaign'], axis=1)\n",
    "\n",
    "print(f\"Dimensões da base de dados: {db.shape}\")"
   ]
  },
  {
   "cell_type": "markdown",
   "metadata": {},
   "source": [
    "## Variáveis explicativas\n",
    "1 - age (numeric)\n",
    "\n",
    "2 - job : type of job (categorical: 'admin.','blue-collar','entrepreneur','housemaid','management','retired','self-employed','services','student','technician','unemployed','unknown')\n",
    "\n",
    "3 - marital : marital status (categorical: 'divorced','married','single','unknown'; note: 'divorced' means divorced or widowed)\n",
    "\n",
    "4 - education (categorical: 'basic.4y','basic.6y','basic.9y','high.school','illiterate','professional.course','university.degree','unknown')\n",
    "\n",
    "5 - default: has credit in default? (categorical: 'no','yes','unknown')\n",
    "\n",
    "6 - housing: has housing loan? (categorical: 'no','yes','unknown')\n",
    "\n",
    "7 - loan: has personal loan? (categorical: 'no','yes','unknown')\n",
    "\n",
    "8 - contact: contact communication type (categorical: 'cellular','telephone')\n",
    "\n",
    "9 - month: last contact month of year (categorical: 'jan', 'feb', 'mar', ..., 'nov', 'dec')\n",
    "\n",
    "10 - day_of_week: last contact day of the week (categorical: 'mon','tue','wed','thu','fri')\n",
    "\n",
    "11 - duration: last contact duration, in seconds (numeric). Important note: this attribute highly affects the output target (e.g., if duration=0 then y='no'). Yet, the duration is not known before a call is performed. Also, after the end of the call y is obviously known. Thus, this input should only be included for benchmark purposes and should be discarded if the intention is to have a realistic predictive model.\n",
    "\n",
    "12 - campaign: number of contacts performed during this campaign and for this client (numeric, includes last contact)\n",
    "\n",
    "13 - pdays: number of days that passed by after the client was last contacted from a previous campaign (numeric; 999 means client was not previously contacted)\n",
    "\n",
    "14 - previous: number of contacts performed before this campaign and for this client (numeric)\n",
    "\n",
    "15 - poutcome: outcome of the previous marketing campaign (categorical: 'failure','nonexistent','success')\n",
    "\n",
    "16 - emp.var.rate: employment variation rate - (numeric)\n",
    "\n",
    "17 - cons.price.idx: consumer price index - (numeric)\n",
    "\n",
    "18 - cons.conf.idx: consumer confidence index - (numeric)\n",
    "\n",
    "19 - euribor3m: euribor 3 month rate - (numeric)\n",
    "\n",
    "20 - nr.employed: number of employees - (numeric)\n",
    "\n",
    "## Variável dependente:\n",
    "\n",
    "y - has the client subscribed a term deposit? (binary: '1','0')\n",
    "\n",
    "The education column of the dataset has many categories and we need to reduce the categories for a better modelling. The education column has the following categories:"
   ]
  },
  {
   "cell_type": "markdown",
   "metadata": {},
   "source": [
    "# Os dados"
   ]
  },
  {
   "cell_type": "code",
   "execution_count": 3,
   "metadata": {
    "ExecuteTime": {
     "end_time": "2020-11-11T16:18:01.288991Z",
     "start_time": "2020-11-11T16:18:01.277023Z"
    }
   },
   "outputs": [
    {
     "data": {
      "text/plain": [
       "0    36548\n",
       "1     4640\n",
       "Name: y, dtype: int64"
      ]
     },
     "execution_count": 3,
     "metadata": {},
     "output_type": "execute_result"
    }
   ],
   "source": [
    "db['y'].value_counts()"
   ]
  },
  {
   "cell_type": "code",
   "execution_count": 4,
   "metadata": {
    "ExecuteTime": {
     "end_time": "2020-11-11T16:18:01.761728Z",
     "start_time": "2020-11-11T16:18:01.291982Z"
    }
   },
   "outputs": [
    {
     "data": {
      "image/png": "[encoded data removed]",
      "text/plain": [
       "<Figure size 432x288 with 1 Axes>"
      ]
     },
     "metadata": {},
     "output_type": "display_data"
    }
   ],
   "source": [
    "sns.countplot(x='y',data=db, palette='Blues')\n",
    "plt.grid(False)\n",
    "plt.show()"
   ]
  },
  {
   "cell_type": "code",
   "execution_count": 6,
   "metadata": {
    "ExecuteTime": {
     "end_time": "2020-11-11T16:18:22.301823Z",
     "start_time": "2020-11-11T16:18:22.281874Z"
    }
   },
   "outputs": [
    {
     "name": "stdout",
     "output_type": "stream",
     "text": [
      "percentage of no subscription is 88.73458288821988\n",
      "percentage of subscription 11.265417111780131\n"
     ]
    }
   ],
   "source": [
    "count_no_sub = len(db[db['y']==0])\n",
    "count_sub = len(db[db['y']==1])\n",
    "pct_of_no_sub = count_no_sub/(count_no_sub+count_sub)\n",
    "print(f\"percentage of no subscription is {pct_of_no_sub*100}\")\n",
    "pct_of_sub = count_sub/(count_no_sub+count_sub)\n",
    "print(f\"percentage of subscription {pct_of_sub*100}\")"
   ]
  },
  {
   "cell_type": "markdown",
   "metadata": {
    "ExecuteTime": {
     "end_time": "2020-11-11T00:30:18.786726Z",
     "start_time": "2020-11-11T00:30:18.779743Z"
    }
   },
   "source": [
    "Nossas classes são desbalanceadas e a razão de não assinatura e assinatura é aproximadamente 89:11. Desbalanceamento é um problema típico na vida real e impacta na diretamente na solução do algoritmo. Existem diferentes formas de tratar desbalanceamento, uma das mais comuns é regularização que consiste em criar uma **penalização na função objetivo do algoritmo**."
   ]
  },
  {
   "cell_type": "markdown",
   "metadata": {
    "ExecuteTime": {
     "end_time": "2020-11-11T00:36:49.214019Z",
     "start_time": "2020-11-11T00:36:49.210029Z"
    }
   },
   "source": [
    "## Separação base treino e teste"
   ]
  },
  {
   "cell_type": "code",
   "execution_count": 7,
   "metadata": {
    "ExecuteTime": {
     "end_time": "2020-11-11T16:18:25.072685Z",
     "start_time": "2020-11-11T16:18:25.059721Z"
    }
   },
   "outputs": [],
   "source": [
    "X = db.loc[:, db.columns != 'y']\n",
    "y = db.loc[:, db.columns == 'y']"
   ]
  },
  {
   "cell_type": "code",
   "execution_count": 8,
   "metadata": {
    "ExecuteTime": {
     "end_time": "2020-11-11T16:18:25.294094Z",
     "start_time": "2020-11-11T16:18:25.269160Z"
    }
   },
   "outputs": [],
   "source": [
    "# Separar uma parte da base para servir como a informação após o teste\n",
    "X_mod, X_val, y_mod, y_val = train_test_split(X, y, test_size=0.2, random_state=42)"
   ]
  },
  {
   "cell_type": "code",
   "execution_count": 9,
   "metadata": {
    "ExecuteTime": {
     "end_time": "2020-11-11T16:18:25.467630Z",
     "start_time": "2020-11-11T16:18:25.447684Z"
    }
   },
   "outputs": [],
   "source": [
    "# Cria bases de teste e treino\n",
    "X_train, X_test, y_train, y_test = train_test_split(X_mod, y_mod, test_size=0.3, random_state=42)"
   ]
  },
  {
   "cell_type": "code",
   "execution_count": 10,
   "metadata": {
    "ExecuteTime": {
     "end_time": "2020-11-11T16:18:25.583320Z",
     "start_time": "2020-11-11T16:18:25.574346Z"
    }
   },
   "outputs": [],
   "source": [
    "# Vou usar uma base específica para a exploratória\n",
    "data = X_train\n",
    "data['y'] = y_train.values"
   ]
  },
  {
   "cell_type": "markdown",
   "metadata": {},
   "source": [
    "## Exploração de dados"
   ]
  },
  {
   "cell_type": "code",
   "execution_count": 11,
   "metadata": {
    "ExecuteTime": {
     "end_time": "2020-11-11T16:18:26.069237Z",
     "start_time": "2020-11-11T16:18:25.862576Z"
    }
   },
   "outputs": [
    {
     "data": {
      "text/html": [
       "<div>\n",
       "<style scoped>\n",
       "    .dataframe tbody tr th:only-of-type {\n",
       "        vertical-align: middle;\n",
       "    }\n",
       "\n",
       "    .dataframe tbody tr th {\n",
       "        vertical-align: top;\n",
       "    }\n",
       "\n",
       "    .dataframe thead th {\n",
       "        text-align: right;\n",
       "    }\n",
       "</style>\n",
       "<table border=\"1\" class=\"dataframe\">\n",
       "  <thead>\n",
       "    <tr style=\"text-align: right;\">\n",
       "      <th></th>\n",
       "      <th>age</th>\n",
       "      <th>pdays</th>\n",
       "      <th>previous</th>\n",
       "      <th>emp_var_rate</th>\n",
       "      <th>cons_price_idx</th>\n",
       "      <th>cons_conf_idx</th>\n",
       "      <th>euribor3m</th>\n",
       "      <th>nr_employed</th>\n",
       "    </tr>\n",
       "    <tr>\n",
       "      <th>y</th>\n",
       "      <th></th>\n",
       "      <th></th>\n",
       "      <th></th>\n",
       "      <th></th>\n",
       "      <th></th>\n",
       "      <th></th>\n",
       "      <th></th>\n",
       "      <th></th>\n",
       "    </tr>\n",
       "  </thead>\n",
       "  <tbody>\n",
       "    <tr>\n",
       "      <th>0</th>\n",
       "      <td>39.869066</td>\n",
       "      <td>984.937439</td>\n",
       "      <td>0.131520</td>\n",
       "      <td>0.254317</td>\n",
       "      <td>93.604583</td>\n",
       "      <td>-40.602662</td>\n",
       "      <td>3.817464</td>\n",
       "      <td>5176.457824</td>\n",
       "    </tr>\n",
       "    <tr>\n",
       "      <th>1</th>\n",
       "      <td>40.707609</td>\n",
       "      <td>803.782155</td>\n",
       "      <td>0.476246</td>\n",
       "      <td>-1.221553</td>\n",
       "      <td>93.349669</td>\n",
       "      <td>-39.808343</td>\n",
       "      <td>2.137010</td>\n",
       "      <td>5096.232947</td>\n",
       "    </tr>\n",
       "  </tbody>\n",
       "</table>\n",
       "</div>"
      ],
      "text/plain": [
       "         age       pdays  previous  emp_var_rate  cons_price_idx  \\\n",
       "y                                                                  \n",
       "0  39.869066  984.937439  0.131520      0.254317       93.604583   \n",
       "1  40.707609  803.782155  0.476246     -1.221553       93.349669   \n",
       "\n",
       "   cons_conf_idx  euribor3m  nr_employed  \n",
       "y                                         \n",
       "0     -40.602662   3.817464  5176.457824  \n",
       "1     -39.808343   2.137010  5096.232947  "
      ]
     },
     "execution_count": 11,
     "metadata": {},
     "output_type": "execute_result"
    }
   ],
   "source": [
    "# Analisando as variáveis numéricas\n",
    "data.groupby('y').mean()"
   ]
  },
  {
   "cell_type": "markdown",
   "metadata": {},
   "source": [
    "Observações:\n",
    "\n",
    "* **Age**: A média da idade dos clientes que contrataram o produto é maior que a dos clientes que não contrataram.\n",
    "* **pdays**: Média de dias desde o último contato é menor para os clientes que contrataram.\n",
    "* **Previous**: O número de contatos feitos anteriormente é em média maior para os clientes que contrataram o produto.\n",
    "* **euribor3m:**: A média do Euribor (score de crédito) para os últimos 3 meses é menor para os clientes que contrataram o produto.\n",
    "\n",
    "Vamos nos aprofundar na descritiva de uma dessas variáveis."
   ]
  },
  {
   "cell_type": "code",
   "execution_count": 12,
   "metadata": {
    "ExecuteTime": {
     "end_time": "2020-11-11T16:18:26.243772Z",
     "start_time": "2020-11-11T16:18:26.208865Z"
    }
   },
   "outputs": [
    {
     "data": {
      "text/html": [
       "<div>\n",
       "<style scoped>\n",
       "    .dataframe tbody tr th:only-of-type {\n",
       "        vertical-align: middle;\n",
       "    }\n",
       "\n",
       "    .dataframe tbody tr th {\n",
       "        vertical-align: top;\n",
       "    }\n",
       "\n",
       "    .dataframe thead th {\n",
       "        text-align: right;\n",
       "    }\n",
       "</style>\n",
       "<table border=\"1\" class=\"dataframe\">\n",
       "  <thead>\n",
       "    <tr style=\"text-align: right;\">\n",
       "      <th></th>\n",
       "      <th>count</th>\n",
       "      <th>mean</th>\n",
       "      <th>std</th>\n",
       "      <th>min</th>\n",
       "      <th>10%</th>\n",
       "      <th>20%</th>\n",
       "      <th>30%</th>\n",
       "      <th>40%</th>\n",
       "      <th>50%</th>\n",
       "      <th>60%</th>\n",
       "      <th>70%</th>\n",
       "      <th>80%</th>\n",
       "      <th>90%</th>\n",
       "      <th>max</th>\n",
       "    </tr>\n",
       "    <tr>\n",
       "      <th>y</th>\n",
       "      <th></th>\n",
       "      <th></th>\n",
       "      <th></th>\n",
       "      <th></th>\n",
       "      <th></th>\n",
       "      <th></th>\n",
       "      <th></th>\n",
       "      <th></th>\n",
       "      <th></th>\n",
       "      <th></th>\n",
       "      <th></th>\n",
       "      <th></th>\n",
       "      <th></th>\n",
       "      <th></th>\n",
       "    </tr>\n",
       "  </thead>\n",
       "  <tbody>\n",
       "    <tr>\n",
       "      <th>0</th>\n",
       "      <td>20476.0</td>\n",
       "      <td>39.869066</td>\n",
       "      <td>9.881377</td>\n",
       "      <td>17.0</td>\n",
       "      <td>29.0</td>\n",
       "      <td>31.0</td>\n",
       "      <td>33.0</td>\n",
       "      <td>36.0</td>\n",
       "      <td>38.0</td>\n",
       "      <td>41.0</td>\n",
       "      <td>45.0</td>\n",
       "      <td>49.0</td>\n",
       "      <td>54.0</td>\n",
       "      <td>95.0</td>\n",
       "    </tr>\n",
       "    <tr>\n",
       "      <th>1</th>\n",
       "      <td>2589.0</td>\n",
       "      <td>40.707609</td>\n",
       "      <td>13.763762</td>\n",
       "      <td>17.0</td>\n",
       "      <td>26.0</td>\n",
       "      <td>29.0</td>\n",
       "      <td>32.0</td>\n",
       "      <td>34.0</td>\n",
       "      <td>37.0</td>\n",
       "      <td>41.0</td>\n",
       "      <td>46.0</td>\n",
       "      <td>52.0</td>\n",
       "      <td>60.0</td>\n",
       "      <td>98.0</td>\n",
       "    </tr>\n",
       "  </tbody>\n",
       "</table>\n",
       "</div>"
      ],
      "text/plain": [
       "     count       mean        std   min   10%   20%   30%   40%   50%   60%  \\\n",
       "y                                                                            \n",
       "0  20476.0  39.869066   9.881377  17.0  29.0  31.0  33.0  36.0  38.0  41.0   \n",
       "1   2589.0  40.707609  13.763762  17.0  26.0  29.0  32.0  34.0  37.0  41.0   \n",
       "\n",
       "    70%   80%   90%   max  \n",
       "y                          \n",
       "0  45.0  49.0  54.0  95.0  \n",
       "1  46.0  52.0  60.0  98.0  "
      ]
     },
     "execution_count": 12,
     "metadata": {},
     "output_type": "execute_result"
    }
   ],
   "source": [
    "# Distribuição da idade\n",
    "data.groupby('y').age.describe(percentiles=[.1,.2,.3,.4,.5,.6,.7,.8,.9])"
   ]
  },
  {
   "cell_type": "markdown",
   "metadata": {},
   "source": [
    "É possível perceber dois comportamentos:\n",
    "* Até o 6° decil a idade daqueles que contrataram é menor;\n",
    "* A partir do 6° decil a idade daqueles que contrataram é maior.\n",
    "\n",
    "Isso mostra que a amplitude da distribuição da idade dos clientes que contratam é maior que a dos clientes que não contrataram. Além disso, como a diferença cresce com os decis, podemos ter uma oportunidade maior com pessoas mais velhas."
   ]
  },
  {
   "cell_type": "code",
   "execution_count": 13,
   "metadata": {
    "ExecuteTime": {
     "end_time": "2020-11-11T16:18:27.071561Z",
     "start_time": "2020-11-11T16:18:26.498092Z"
    }
   },
   "outputs": [
    {
     "data": {
      "image/png": "[encoded data removed]",
      "text/plain": [
       "<Figure size 432x288 with 1 Axes>"
      ]
     },
     "metadata": {},
     "output_type": "display_data"
    }
   ],
   "source": [
    "ax1 = sns.distplot(data[data.y==0].age, label='Não contrataram')\n",
    "ax2 = sns.distplot(data[data.y==1].age, label='Contrataram')\n",
    "\n",
    "plt.title('Distribuição da idade dos clientes')\n",
    "ax1.legend()\n",
    "ax2.legend()\n",
    "ax1.grid(False)"
   ]
  },
  {
   "cell_type": "code",
   "execution_count": 14,
   "metadata": {
    "ExecuteTime": {
     "end_time": "2020-11-11T16:18:27.349818Z",
     "start_time": "2020-11-11T16:18:27.073554Z"
    }
   },
   "outputs": [
    {
     "data": {
      "image/png": "[encoded data removed]",
      "text/plain": [
       "<Figure size 432x288 with 1 Axes>"
      ]
     },
     "metadata": {},
     "output_type": "display_data"
    }
   ],
   "source": [
    "# Box plot da idade\n",
    "ax1 = sns.boxplot(y=\"age\", x='y', data=data, palette=\"Blues\")\n",
    "ax1.grid(False)"
   ]
  },
  {
   "cell_type": "markdown",
   "metadata": {},
   "source": [
    "Vamos dar uma olhada nas variáveis categóricas."
   ]
  },
  {
   "cell_type": "code",
   "execution_count": 15,
   "metadata": {
    "ExecuteTime": {
     "end_time": "2020-11-11T16:18:27.695891Z",
     "start_time": "2020-11-11T16:18:27.351811Z"
    }
   },
   "outputs": [
    {
     "data": {
      "image/png": "[encoded data removed]",
      "text/plain": [
       "<Figure size 432x288 with 1 Axes>"
      ]
     },
     "metadata": {},
     "output_type": "display_data"
    }
   ],
   "source": [
    "table=pd.crosstab(data.education,data.y)\n",
    "table2 = table.div(table.sum(1).astype(float), axis=0)\n",
    "\n",
    "plt.barh(table2.index, table2[1]+table2[0], label = 'Contratou', color='c')\n",
    "plt.barh(table2.index, table2[0], label = 'Não contratou', color='blue')\n",
    "\n",
    "plt.title('Taxa de conversão dos clientes por formação')\n",
    "#plt.legend()\n",
    "plt.grid(False)"
   ]
  },
  {
   "cell_type": "markdown",
   "metadata": {},
   "source": [
    "Observem que a taxa de pessoas analfabetas (`iliterate`) que contrataram é alta (20%) em relação as demais (10% em média). Isso poderia indicar um aproveitamento da equipe, que vai de encontro com as boas práticas da seguradora. No entanto, a quantidade de pessoas nessa categoria é muito baixa. A **Lei dos grandes números** não se aplica a pequenos números. 😉"
   ]
  },
  {
   "cell_type": "code",
   "execution_count": 16,
   "metadata": {
    "ExecuteTime": {
     "end_time": "2020-11-11T16:18:27.709855Z",
     "start_time": "2020-11-11T16:18:27.698885Z"
    }
   },
   "outputs": [
    {
     "data": {
      "text/plain": [
       "education\n",
       "basic.4y               2345\n",
       "basic.6y               1298\n",
       "basic.9y               3365\n",
       "high.school            5358\n",
       "illiterate               11\n",
       "professional.course    2951\n",
       "university.degree      6776\n",
       "unknown                 961\n",
       "Name: y, dtype: int64"
      ]
     },
     "execution_count": 16,
     "metadata": {},
     "output_type": "execute_result"
    }
   ],
   "source": [
    "data.groupby('education').y.count()"
   ]
  },
  {
   "cell_type": "markdown",
   "metadata": {},
   "source": [
    "Por outro lado, as pessoas com **diploma universitário** (`university.degree`) possuem ligeira propensão a contratação e possuem observações suficientes para afirmar isso."
   ]
  },
  {
   "cell_type": "code",
   "execution_count": 17,
   "metadata": {
    "ExecuteTime": {
     "end_time": "2020-11-11T16:18:28.131728Z",
     "start_time": "2020-11-11T16:18:27.735784Z"
    }
   },
   "outputs": [
    {
     "data": {
      "image/png": "[encoded data removed]",
      "text/plain": [
       "<Figure size 432x288 with 1 Axes>"
      ]
     },
     "metadata": {},
     "output_type": "display_data"
    }
   ],
   "source": [
    "table=pd.crosstab(data.default,data.y)\n",
    "table2 = table.div(table.sum(1).astype(float), axis=0)\n",
    "\n",
    "plt.barh(table2.index, table2[1]+table2[0], label = 'Contratou', color='c')\n",
    "plt.barh(table2.index, table2[0], label = 'Não contratou', color='blue')\n",
    "\n",
    "plt.title('Taxa de conversão dos clientes por Defaut de crédito')\n",
    "#plt.legend()\n",
    "plt.grid(False)"
   ]
  },
  {
   "cell_type": "markdown",
   "metadata": {},
   "source": [
    "O *Default* acontece quando uma pessoa (física ou jurídica) não consegue cumprir com suas obrigações financeiras, como o pagamento do principal de uma dívida. Como não temos nenhuma venda para indivíduos que possuem *default*, isso quer dizer que a área pode ter barrado a venda para esses indivíduos. "
   ]
  },
  {
   "cell_type": "code",
   "execution_count": 18,
   "metadata": {
    "ExecuteTime": {
     "end_time": "2020-11-11T16:18:28.607456Z",
     "start_time": "2020-11-11T16:18:28.362112Z"
    }
   },
   "outputs": [
    {
     "data": {
      "image/png": "[encoded data removed]",
      "text/plain": [
       "<Figure size 432x288 with 1 Axes>"
      ]
     },
     "metadata": {},
     "output_type": "display_data"
    }
   ],
   "source": [
    "table=pd.crosstab(data.housing,data.y)\n",
    "table2 = table.div(table.sum(1).astype(float), axis=0)\n",
    "\n",
    "plt.barh(table2.index, table2[1]+table2[0], label = 'Contratou', color='c')\n",
    "plt.barh(table2.index, table2[0], label = 'Não contratou', color='blue')\n",
    "\n",
    "plt.title('Taxa de conversão dos clientes por financiamento residencial')\n",
    "#plt.legend()\n",
    "plt.grid(False)"
   ]
  },
  {
   "cell_type": "code",
   "execution_count": 19,
   "metadata": {
    "ExecuteTime": {
     "end_time": "2020-11-11T16:18:28.894689Z",
     "start_time": "2020-11-11T16:18:28.613440Z"
    }
   },
   "outputs": [
    {
     "data": {
      "image/png": "[encoded data removed]",
      "text/plain": [
       "<Figure size 432x288 with 1 Axes>"
      ]
     },
     "metadata": {},
     "output_type": "display_data"
    }
   ],
   "source": [
    "table=pd.crosstab(data.loan,data.y)\n",
    "table2 = table.div(table.sum(1).astype(float), axis=0)\n",
    "\n",
    "plt.barh(table2.index, table2[1]+table2[0], label = 'Contratou', color='c')\n",
    "plt.barh(table2.index, table2[0], label = 'Não contratou', color='blue')\n",
    "\n",
    "plt.title('Taxa de conversão dos clientes por empréstimo bancário')\n",
    "#plt.legend()\n",
    "plt.grid(False)"
   ]
  },
  {
   "cell_type": "markdown",
   "metadata": {},
   "source": [
    "A ocorrência de empréstimo, tanto bancário quanto residencial não mostra diferença na propensão de contratação do produto."
   ]
  },
  {
   "cell_type": "code",
   "execution_count": 20,
   "metadata": {
    "ExecuteTime": {
     "end_time": "2020-11-11T16:18:29.242759Z",
     "start_time": "2020-11-11T16:18:28.978470Z"
    }
   },
   "outputs": [
    {
     "data": {
      "image/png": "[encoded data removed]",
      "text/plain": [
       "<Figure size 432x288 with 1 Axes>"
      ]
     },
     "metadata": {},
     "output_type": "display_data"
    }
   ],
   "source": [
    "table=pd.crosstab(data.marital,data.y)\n",
    "table2 = table.div(table.sum(1).astype(float), axis=0)\n",
    "\n",
    "plt.barh(table2.index, table2[1]+table2[0], label = 'Contratou', color='c')\n",
    "plt.barh(table2.index, table2[0], label = 'Não contratou', color='blue')\n",
    "\n",
    "plt.title('Taxa de conversão dos clientes por estado civil')\n",
    "#plt.legend()\n",
    "plt.grid(False)"
   ]
  },
  {
   "cell_type": "markdown",
   "metadata": {},
   "source": [
    "Indivíduos solteiros ou que não desejaram informar o estado civil fecharam mais negócios."
   ]
  },
  {
   "cell_type": "code",
   "execution_count": 21,
   "metadata": {
    "ExecuteTime": {
     "end_time": "2020-11-11T16:18:29.802264Z",
     "start_time": "2020-11-11T16:18:29.354461Z"
    }
   },
   "outputs": [
    {
     "data": {
      "image/png": "[encoded data removed]",
      "text/plain": [
       "<Figure size 432x288 with 1 Axes>"
      ]
     },
     "metadata": {},
     "output_type": "display_data"
    }
   ],
   "source": [
    "table=pd.crosstab(data.job,data.y)\n",
    "table2 = table.div(table.sum(1).astype(float), axis=0)\n",
    "\n",
    "plt.barh(table2.index, table2[1]+table2[0], label = 'Contratou', color='c')\n",
    "plt.barh(table2.index, table2[0], label = 'Não contratou', color='blue')\n",
    "\n",
    "plt.title('Taxa de conversão dos clientes por ocupação')\n",
    "#plt.legend()\n",
    "plt.grid(False)"
   ]
  },
  {
   "cell_type": "markdown",
   "metadata": {},
   "source": [
    "As taxas variam de acordo com o tipo de ocupação. Porém, percebemos que estudantes (student) e aposentados (retired) possuem maior taxa."
   ]
  },
  {
   "cell_type": "code",
   "execution_count": 22,
   "metadata": {
    "ExecuteTime": {
     "end_time": "2020-11-11T16:18:30.036638Z",
     "start_time": "2020-11-11T16:18:29.805258Z"
    }
   },
   "outputs": [
    {
     "data": {
      "image/png": "[encoded data removed]",
      "text/plain": [
       "<Figure size 432x288 with 1 Axes>"
      ]
     },
     "metadata": {},
     "output_type": "display_data"
    }
   ],
   "source": [
    "table=pd.crosstab(data.contact,data.y)\n",
    "table2 = table.div(table.sum(1).astype(float), axis=0)\n",
    "\n",
    "plt.barh(table2.index, table2[1]+table2[0], label = 'Contratou', color='c')\n",
    "plt.barh(table2.index, table2[0], label = 'Não contratou', color='blue')\n",
    "\n",
    "plt.title('Taxa de conversão dos clientes por tipo de contato')\n",
    "#plt.legend()\n",
    "plt.grid(False)"
   ]
  },
  {
   "cell_type": "markdown",
   "metadata": {},
   "source": [
    "Quando o numéro de contato é de um aparelho móvel, a taxa de conversão é maior. "
   ]
  },
  {
   "cell_type": "markdown",
   "metadata": {},
   "source": [
    "# Modelo"
   ]
  },
  {
   "cell_type": "markdown",
   "metadata": {},
   "source": [
    "## Criando dummies"
   ]
  },
  {
   "cell_type": "markdown",
   "metadata": {},
   "source": [
    "Uma característica das bibliotecas de ML do Python é aceitar apenas variáveis numéricas. Quando temos variáveis categóricas uma estratégia é criar variáveis dummies. Nesse caso, para cada categoria de cada variável criamos uma nova variável binária que informa se aquela observação possui a característica (1) ou não (0)."
   ]
  },
  {
   "cell_type": "code",
   "execution_count": 23,
   "metadata": {
    "ExecuteTime": {
     "end_time": "2020-11-11T16:18:30.682841Z",
     "start_time": "2020-11-11T16:18:30.673865Z"
    }
   },
   "outputs": [],
   "source": [
    "def dummy(data, var_mod):\n",
    "    cat_vars=['job','marital','education','default','housing','loan','contact','month','day_of_week','poutcome']\n",
    "    for var in cat_vars:\n",
    "        cat_list='var'+'_'+var\n",
    "        cat_list = pd.get_dummies(data[var], prefix=var)\n",
    "        data1=data.join(cat_list)\n",
    "        data=data1\n",
    "\n",
    "    cat_vars=['job','marital','education','default','housing','loan','contact','month','day_of_week','poutcome']\n",
    "    data_vars=data.columns.values.tolist()\n",
    "    to_keep=[i for i in data_vars if i not in cat_vars]\n",
    "    data_final=data[to_keep]\n",
    "    \n",
    "    for i in var_mod:\n",
    "        if i not in data_final.columns.tolist(): \n",
    "            data_final.loc[:, str(i)] = 0\n",
    "    \n",
    "    return data_final"
   ]
  },
  {
   "cell_type": "markdown",
   "metadata": {},
   "source": [
    "## Random Forest"
   ]
  },
  {
   "cell_type": "code",
   "execution_count": 24,
   "metadata": {
    "ExecuteTime": {
     "end_time": "2020-11-11T16:18:31.182505Z",
     "start_time": "2020-11-11T16:18:31.057854Z"
    }
   },
   "outputs": [],
   "source": [
    "# Variáveis que serão usadas como explicativas\n",
    "var_mod = ['age', 'pdays', 'previous', 'euribor3m', 'education_university.degree',\n",
    "           'marital_single', 'marital_unknown', 'job_retired', 'job_student', 'contact_cellular']\n",
    "\n",
    "# Ajuste da base com as variáveis dummy\n",
    "treino = dummy(data=X_train, var_mod=var_mod)\n",
    "teste = dummy(data=X_test, var_mod=var_mod)"
   ]
  },
  {
   "cell_type": "code",
   "execution_count": 25,
   "metadata": {
    "ExecuteTime": {
     "end_time": "2020-11-11T16:18:33.980658Z",
     "start_time": "2020-11-11T16:18:31.319139Z"
    }
   },
   "outputs": [],
   "source": [
    "#Import Random Forest Model\n",
    "from sklearn.ensemble import RandomForestClassifier\n",
    "\n",
    "# Cria o classificador\n",
    "clf=RandomForestClassifier(n_estimators=100)\n",
    "\n",
    "# Traina o modelo\n",
    "clf.fit(treino[var_mod],y_train)\n",
    "\n",
    "# Faz as predições\n",
    "predictions=clf.predict(teste[var_mod]) # Binária\n",
    "y_probas = clf.predict_proba(teste[var_mod]) # Probabilidade"
   ]
  },
  {
   "cell_type": "code",
   "execution_count": 26,
   "metadata": {
    "ExecuteTime": {
     "end_time": "2020-11-11T16:18:33.998610Z",
     "start_time": "2020-11-11T16:18:33.982653Z"
    }
   },
   "outputs": [
    {
     "name": "stdout",
     "output_type": "stream",
     "text": [
      "Acurácia: 0.887\n",
      "Precisão: 0.492\n",
      "Sensibilidade: 0.309\n"
     ]
    }
   ],
   "source": [
    "# Importa a biblioteca com as métricas\n",
    "from sklearn import metrics\n",
    "\n",
    "print(f\"Acurácia: {metrics.accuracy_score(y_true=y_test, y_pred=predictions):.3f}\")\n",
    "print(f\"Precisão: {metrics.precision_score(y_true=y_test, y_pred=predictions):.3f}\")\n",
    "print(f\"Sensibilidade: {metrics.recall_score(y_true=y_test, y_pred=predictions):.3f}\")"
   ]
  },
  {
   "cell_type": "code",
   "execution_count": 27,
   "metadata": {
    "ExecuteTime": {
     "end_time": "2020-11-11T16:18:34.568089Z",
     "start_time": "2020-11-11T16:18:34.001603Z"
    }
   },
   "outputs": [
    {
     "data": {
      "text/plain": [
       "<AxesSubplot:title={'center':'Confusion Matrix'}, xlabel='Predicted label', ylabel='True label'>"
      ]
     },
     "execution_count": 27,
     "metadata": {},
     "output_type": "execute_result"
    },
    {
     "data": {
      "image/png": "[encoded data removed]",
      "text/plain": [
       "<Figure size 432x288 with 2 Axes>"
      ]
     },
     "metadata": {},
     "output_type": "display_data"
    }
   ],
   "source": [
    "import scikitplot as skplt\n",
    "skplt.metrics.plot_confusion_matrix(y_test, predictions, cmap='Blues')"
   ]
  },
  {
   "cell_type": "code",
   "execution_count": 28,
   "metadata": {
    "ExecuteTime": {
     "end_time": "2020-11-11T16:18:34.909178Z",
     "start_time": "2020-11-11T16:18:34.571082Z"
    }
   },
   "outputs": [
    {
     "data": {
      "image/png": "[encoded data removed]",
      "text/plain": [
       "<Figure size 432x288 with 1 Axes>"
      ]
     },
     "metadata": {},
     "output_type": "display_data"
    }
   ],
   "source": [
    "import scikitplot as skplt\n",
    "#skplt.metrics.plot_confusion_matrix(y_train, predictions, cmap='Blues')\n",
    "skplt.metrics.plot_roc(y_test, y_probas, text_fontsize ='small', plot_micro=False, plot_macro=False,\n",
    "                       classes_to_plot=True, title = 'Curva ROC')\n",
    "plt.xlabel('1 - especificidade') # Define o nome do eixo x\n",
    "plt.ylabel('Sensibilidade') # Define o nome do eixo y\n",
    "plt.grid(False)"
   ]
  },
  {
   "cell_type": "markdown",
   "metadata": {},
   "source": [
    "## XgBoost"
   ]
  },
  {
   "cell_type": "code",
   "execution_count": 29,
   "metadata": {
    "ExecuteTime": {
     "end_time": "2020-11-11T16:18:34.999936Z",
     "start_time": "2020-11-11T16:18:34.911174Z"
    }
   },
   "outputs": [],
   "source": [
    "from xgboost import XGBClassifier\n",
    "\n",
    "seed = 2020\n",
    "imbalanced = ((y.count() - y.sum())/y.sum())[0]  # Balanceamento da base"
   ]
  },
  {
   "cell_type": "code",
   "execution_count": 30,
   "metadata": {
    "ExecuteTime": {
     "end_time": "2020-11-11T16:18:35.082715Z",
     "start_time": "2020-11-11T16:18:35.001930Z"
    }
   },
   "outputs": [
    {
     "data": {
      "text/plain": [
       "7.876724137931035"
      ]
     },
     "execution_count": 30,
     "metadata": {},
     "output_type": "execute_result"
    }
   ],
   "source": [
    "((y.count() - y.sum())/y.sum())[0]"
   ]
  },
  {
   "cell_type": "code",
   "execution_count": 31,
   "metadata": {
    "ExecuteTime": {
     "end_time": "2020-11-11T16:18:36.287626Z",
     "start_time": "2020-11-11T16:18:35.085706Z"
    }
   },
   "outputs": [],
   "source": [
    "model_xg = XGBClassifier(objective='binary:logistic',\n",
    "                         booster='gbtree',\n",
    "                         eval_metric='auc',\n",
    "                         random_state=seed,\n",
    "                         #scale_pos_weight=imbalanced,\n",
    "                         n_jobs=-1)\n",
    "\n",
    "model_xg.fit(treino[var_mod], y_train)\n",
    "\n",
    "predictions = model_xg.predict(teste[var_mod])\n",
    "y_probas = model_xg.predict_proba(teste[var_mod])"
   ]
  },
  {
   "cell_type": "code",
   "execution_count": 32,
   "metadata": {
    "ExecuteTime": {
     "end_time": "2020-11-11T16:18:36.309570Z",
     "start_time": "2020-11-11T16:18:36.290619Z"
    }
   },
   "outputs": [
    {
     "name": "stdout",
     "output_type": "stream",
     "text": [
      "Acurácia: 0.895\n",
      "Precisão: 0.569\n",
      "Sensibilidade: 0.259\n"
     ]
    }
   ],
   "source": [
    "# Model Accuracy, how often is the classifier correct?\n",
    "print(f\"Acurácia: {metrics.accuracy_score(y_true=y_test, y_pred=predictions):.3f}\")\n",
    "print(f\"Precisão: {metrics.precision_score(y_true=y_test, y_pred=predictions):.3f}\")\n",
    "print(f\"Sensibilidade: {metrics.recall_score(y_true=y_test, y_pred=predictions):.3f}\")"
   ]
  },
  {
   "cell_type": "markdown",
   "metadata": {},
   "source": [
    "* A sensibilidade mostra o percentual das ligações que foram convertidas e preditas como convertidas pelo modelo. `1 - sensibilidade` mostra o quanto perderíamos de connversão seguindo o modelo.\n",
    "* A precisão mostra quanto dos preditos pelo modelo como convertidos seriam de fato convertidos. Ou seja, mostra o percentual de conversão esperada seguindo o modelo. Nesse caso, de cada 1000 enviado, 777 seria convertido."
   ]
  },
  {
   "cell_type": "code",
   "execution_count": 33,
   "metadata": {
    "ExecuteTime": {
     "end_time": "2020-11-11T16:18:36.742413Z",
     "start_time": "2020-11-11T16:18:36.312560Z"
    }
   },
   "outputs": [
    {
     "data": {
      "text/plain": [
       "<AxesSubplot:title={'center':'Confusion Matrix'}, xlabel='Predicted label', ylabel='True label'>"
      ]
     },
     "execution_count": 33,
     "metadata": {},
     "output_type": "execute_result"
    },
    {
     "data": {
      "image/png": "[encoded data removed]",
      "text/plain": [
       "<Figure size 432x288 with 2 Axes>"
      ]
     },
     "metadata": {},
     "output_type": "display_data"
    }
   ],
   "source": [
    "import scikitplot as skplt\n",
    "skplt.metrics.plot_confusion_matrix(y_test, predictions, cmap='Blues')"
   ]
  },
  {
   "cell_type": "code",
   "execution_count": 34,
   "metadata": {
    "ExecuteTime": {
     "end_time": "2020-11-11T16:18:37.077516Z",
     "start_time": "2020-11-11T16:18:36.744408Z"
    }
   },
   "outputs": [
    {
     "data": {
      "image/png": "[encoded data removed]",
      "text/plain": [
       "<Figure size 432x288 with 1 Axes>"
      ]
     },
     "metadata": {},
     "output_type": "display_data"
    }
   ],
   "source": [
    "import scikitplot as skplt\n",
    "#skplt.metrics.plot_confusion_matrix(y_train, predictions, cmap='Blues')\n",
    "skplt.metrics.plot_roc(y_test, y_probas, text_fontsize ='small', plot_micro=False, plot_macro=False,\n",
    "                       classes_to_plot=True, title = 'Curva ROC')\n",
    "plt.xlabel('1 - especificidade') # Define o nome do eixo x\n",
    "plt.ylabel('Sensibilidade') # Define o nome do eixo y\n",
    "plt.grid(False)"
   ]
  },
  {
   "cell_type": "markdown",
   "metadata": {},
   "source": [
    "## Avaliação"
   ]
  },
  {
   "cell_type": "code",
   "execution_count": 35,
   "metadata": {
    "ExecuteTime": {
     "end_time": "2020-11-11T16:18:39.425201Z",
     "start_time": "2020-11-11T16:18:39.379324Z"
    }
   },
   "outputs": [],
   "source": [
    "X_test['y_probas'] = model_xg.predict_proba(teste[var_mod])[:, 1]"
   ]
  },
  {
   "cell_type": "code",
   "execution_count": 36,
   "metadata": {
    "ExecuteTime": {
     "end_time": "2020-11-11T16:18:39.728392Z",
     "start_time": "2020-11-11T16:18:39.718418Z"
    }
   },
   "outputs": [],
   "source": [
    "X_test['classe'] = pd.qcut(X_test['y_probas'], q=10)"
   ]
  },
  {
   "cell_type": "code",
   "execution_count": 37,
   "metadata": {
    "ExecuteTime": {
     "end_time": "2020-11-11T16:18:40.070478Z",
     "start_time": "2020-11-11T16:18:40.066487Z"
    }
   },
   "outputs": [],
   "source": [
    "X_test['y'] = y_test"
   ]
  },
  {
   "cell_type": "code",
   "execution_count": 38,
   "metadata": {
    "ExecuteTime": {
     "end_time": "2020-11-11T16:18:40.342751Z",
     "start_time": "2020-11-11T16:18:40.321807Z"
    }
   },
   "outputs": [
    {
     "data": {
      "text/html": [
       "<div>\n",
       "<style scoped>\n",
       "    .dataframe tbody tr th:only-of-type {\n",
       "        vertical-align: middle;\n",
       "    }\n",
       "\n",
       "    .dataframe tbody tr th {\n",
       "        vertical-align: top;\n",
       "    }\n",
       "\n",
       "    .dataframe thead th {\n",
       "        text-align: right;\n",
       "    }\n",
       "</style>\n",
       "<table border=\"1\" class=\"dataframe\">\n",
       "  <thead>\n",
       "    <tr style=\"text-align: right;\">\n",
       "      <th></th>\n",
       "      <th>classe_cod</th>\n",
       "      <th>classe</th>\n",
       "      <th>y</th>\n",
       "    </tr>\n",
       "  </thead>\n",
       "  <tbody>\n",
       "    <tr>\n",
       "      <th>0</th>\n",
       "      <td>1</td>\n",
       "      <td>(0.00265, 0.0231]</td>\n",
       "      <td>0.042381</td>\n",
       "    </tr>\n",
       "    <tr>\n",
       "      <th>1</th>\n",
       "      <td>2</td>\n",
       "      <td>(0.0231, 0.0299]</td>\n",
       "      <td>0.051672</td>\n",
       "    </tr>\n",
       "    <tr>\n",
       "      <th>2</th>\n",
       "      <td>3</td>\n",
       "      <td>(0.0299, 0.0367]</td>\n",
       "      <td>0.041498</td>\n",
       "    </tr>\n",
       "    <tr>\n",
       "      <th>3</th>\n",
       "      <td>4</td>\n",
       "      <td>(0.0367, 0.0435]</td>\n",
       "      <td>0.044355</td>\n",
       "    </tr>\n",
       "    <tr>\n",
       "      <th>4</th>\n",
       "      <td>5</td>\n",
       "      <td>(0.0435, 0.0509]</td>\n",
       "      <td>0.044670</td>\n",
       "    </tr>\n",
       "    <tr>\n",
       "      <th>5</th>\n",
       "      <td>6</td>\n",
       "      <td>(0.0509, 0.0602]</td>\n",
       "      <td>0.048534</td>\n",
       "    </tr>\n",
       "    <tr>\n",
       "      <th>6</th>\n",
       "      <td>7</td>\n",
       "      <td>(0.0602, 0.0753]</td>\n",
       "      <td>0.065657</td>\n",
       "    </tr>\n",
       "    <tr>\n",
       "      <th>7</th>\n",
       "      <td>8</td>\n",
       "      <td>(0.0753, 0.114]</td>\n",
       "      <td>0.082067</td>\n",
       "    </tr>\n",
       "    <tr>\n",
       "      <th>8</th>\n",
       "      <td>9</td>\n",
       "      <td>(0.114, 0.305]</td>\n",
       "      <td>0.208713</td>\n",
       "    </tr>\n",
       "    <tr>\n",
       "      <th>9</th>\n",
       "      <td>10</td>\n",
       "      <td>(0.305, 0.996]</td>\n",
       "      <td>0.491405</td>\n",
       "    </tr>\n",
       "  </tbody>\n",
       "</table>\n",
       "</div>"
      ],
      "text/plain": [
       "   classe_cod             classe         y\n",
       "0           1  (0.00265, 0.0231]  0.042381\n",
       "1           2   (0.0231, 0.0299]  0.051672\n",
       "2           3   (0.0299, 0.0367]  0.041498\n",
       "3           4   (0.0367, 0.0435]  0.044355\n",
       "4           5   (0.0435, 0.0509]  0.044670\n",
       "5           6   (0.0509, 0.0602]  0.048534\n",
       "6           7   (0.0602, 0.0753]  0.065657\n",
       "7           8    (0.0753, 0.114]  0.082067\n",
       "8           9     (0.114, 0.305]  0.208713\n",
       "9          10     (0.305, 0.996]  0.491405"
      ]
     },
     "execution_count": 38,
     "metadata": {},
     "output_type": "execute_result"
    }
   ],
   "source": [
    "classes = pd.DataFrame(X_test.groupby('classe').y.sum()/X_test.groupby('classe').y.count()).reset_index()\n",
    "classes.insert(0, 'classe_cod', list(range(1, 11)))\n",
    "classes"
   ]
  },
  {
   "cell_type": "markdown",
   "metadata": {},
   "source": [
    "* A probabilidade observada de alguém da classe 10 contratar o produto é de 49%;\n",
    "* A probabilidade observada de alguém da classe 9 contratar o produto é de 21%;\n",
    "* A probabilidade observada de alguém da classe 1 contratar o produto é de 4%."
   ]
  },
  {
   "cell_type": "markdown",
   "metadata": {},
   "source": [
    "Isso responde a nossa problema? Lembrando que ele é:\n",
    "\n",
    "**Como maximizar a taxa de conversão (#negócio/#ligação)?**"
   ]
  },
  {
   "cell_type": "markdown",
   "metadata": {},
   "source": [
    "# Teste"
   ]
  },
  {
   "cell_type": "code",
   "execution_count": 39,
   "metadata": {
    "ExecuteTime": {
     "end_time": "2020-11-11T16:18:42.287627Z",
     "start_time": "2020-11-11T16:18:42.281643Z"
    }
   },
   "outputs": [
    {
     "data": {
      "text/plain": [
       "8238"
      ]
     },
     "execution_count": 39,
     "metadata": {},
     "output_type": "execute_result"
    }
   ],
   "source": [
    "# Número de clientes elegíveis para ligação\n",
    "len(X_val)"
   ]
  },
  {
   "cell_type": "code",
   "execution_count": 40,
   "metadata": {
    "ExecuteTime": {
     "end_time": "2020-11-11T16:18:43.599122Z",
     "start_time": "2020-11-11T16:18:43.524323Z"
    }
   },
   "outputs": [],
   "source": [
    "valid = dummy(data=X_val, var_mod=var_mod)\n",
    "X_val['y_probas'] = model_xg.predict_proba(valid[var_mod])[:, 1]"
   ]
  },
  {
   "cell_type": "code",
   "execution_count": 41,
   "metadata": {
    "ExecuteTime": {
     "end_time": "2020-11-11T16:18:44.151566Z",
     "start_time": "2020-11-11T16:18:44.124718Z"
    }
   },
   "outputs": [],
   "source": [
    "X_val.loc[(X_val.y_probas > 0.0000) & (X_val.y_probas <= 0.0231), 'classe'] = 1\n",
    "X_val.loc[(X_val.y_probas > 0.0231) & (X_val.y_probas <= 0.0299), 'classe'] = 2\n",
    "X_val.loc[(X_val.y_probas > 0.0299) & (X_val.y_probas <= 0.0367), 'classe'] = 3\n",
    "X_val.loc[(X_val.y_probas > 0.0367) & (X_val.y_probas <= 0.0435), 'classe'] = 4\n",
    "X_val.loc[(X_val.y_probas > 0.0435) & (X_val.y_probas <= 0.0509), 'classe'] = 5\n",
    "X_val.loc[(X_val.y_probas > 0.0509) & (X_val.y_probas <= 0.0602), 'classe'] = 6\n",
    "X_val.loc[(X_val.y_probas > 0.0602) & (X_val.y_probas <= 0.0753), 'classe'] = 7\n",
    "X_val.loc[(X_val.y_probas > 0.0753) & (X_val.y_probas <= 0.1140), 'classe'] = 8\n",
    "X_val.loc[(X_val.y_probas > 0.1140) & (X_val.y_probas <= 0.3050), 'classe'] = 9\n",
    "X_val.loc[(X_val.y_probas > 0.3050) & (X_val.y_probas <= 1.000), 'classe'] = 10"
   ]
  },
  {
   "cell_type": "code",
   "execution_count": 42,
   "metadata": {
    "ExecuteTime": {
     "end_time": "2020-11-11T16:18:45.408191Z",
     "start_time": "2020-11-11T16:18:45.394227Z"
    }
   },
   "outputs": [
    {
     "data": {
      "text/html": [
       "<div>\n",
       "<style scoped>\n",
       "    .dataframe tbody tr th:only-of-type {\n",
       "        vertical-align: middle;\n",
       "    }\n",
       "\n",
       "    .dataframe tbody tr th {\n",
       "        vertical-align: top;\n",
       "    }\n",
       "\n",
       "    .dataframe thead th {\n",
       "        text-align: right;\n",
       "    }\n",
       "</style>\n",
       "<table border=\"1\" class=\"dataframe\">\n",
       "  <thead>\n",
       "    <tr style=\"text-align: right;\">\n",
       "      <th></th>\n",
       "      <th>classe</th>\n",
       "      <th>y_probas</th>\n",
       "    </tr>\n",
       "  </thead>\n",
       "  <tbody>\n",
       "    <tr>\n",
       "      <th>0</th>\n",
       "      <td>1.0</td>\n",
       "      <td>789</td>\n",
       "    </tr>\n",
       "    <tr>\n",
       "      <th>1</th>\n",
       "      <td>2.0</td>\n",
       "      <td>872</td>\n",
       "    </tr>\n",
       "    <tr>\n",
       "      <th>2</th>\n",
       "      <td>3.0</td>\n",
       "      <td>848</td>\n",
       "    </tr>\n",
       "    <tr>\n",
       "      <th>3</th>\n",
       "      <td>4.0</td>\n",
       "      <td>815</td>\n",
       "    </tr>\n",
       "    <tr>\n",
       "      <th>4</th>\n",
       "      <td>5.0</td>\n",
       "      <td>861</td>\n",
       "    </tr>\n",
       "    <tr>\n",
       "      <th>5</th>\n",
       "      <td>6.0</td>\n",
       "      <td>713</td>\n",
       "    </tr>\n",
       "    <tr>\n",
       "      <th>6</th>\n",
       "      <td>7.0</td>\n",
       "      <td>798</td>\n",
       "    </tr>\n",
       "    <tr>\n",
       "      <th>7</th>\n",
       "      <td>8.0</td>\n",
       "      <td>848</td>\n",
       "    </tr>\n",
       "    <tr>\n",
       "      <th>8</th>\n",
       "      <td>9.0</td>\n",
       "      <td>832</td>\n",
       "    </tr>\n",
       "    <tr>\n",
       "      <th>9</th>\n",
       "      <td>10.0</td>\n",
       "      <td>862</td>\n",
       "    </tr>\n",
       "  </tbody>\n",
       "</table>\n",
       "</div>"
      ],
      "text/plain": [
       "   classe  y_probas\n",
       "0     1.0       789\n",
       "1     2.0       872\n",
       "2     3.0       848\n",
       "3     4.0       815\n",
       "4     5.0       861\n",
       "5     6.0       713\n",
       "6     7.0       798\n",
       "7     8.0       848\n",
       "8     9.0       832\n",
       "9    10.0       862"
      ]
     },
     "execution_count": 42,
     "metadata": {},
     "output_type": "execute_result"
    }
   ],
   "source": [
    "# Distribuição dos clientes elegíveis para ligação nas classes\n",
    "pd.DataFrame(X_val.groupby('classe').y_probas.count()).reset_index()"
   ]
  },
  {
   "cell_type": "code",
   "execution_count": 3,
   "metadata": {
    "ExecuteTime": {
     "end_time": "2020-11-11T19:23:27.145237Z",
     "start_time": "2020-11-11T19:23:27.139254Z"
    }
   },
   "outputs": [
    {
     "data": {
      "text/plain": [
       "4898"
      ]
     },
     "execution_count": 3,
     "metadata": {},
     "output_type": "execute_result"
    }
   ],
   "source": [
    "8238 - 862 - 832 - 848 - 798"
   ]
  },
  {
   "cell_type": "markdown",
   "metadata": {},
   "source": [
    "## Recomendação"
   ]
  },
  {
   "cell_type": "markdown",
   "metadata": {},
   "source": [
    "* Selecionar os 862 clientes classificados na faixa 10, 832 clientes da faixa 9 e 306 da classe 8 (ou os 2mil com maior probabilidade).\n",
    "* Na faixa 10 é esperado que 49% dos clientes fechem negócio (423)\n",
    "* Na faixa 9 é esperado que 21% dos clientes fechem negócio (175).\n",
    "* Na faixa 8 é esperado que 8% dos clientes fechem negócio (25).\n",
    "* No total, **acredita-se que 623** (423+175+25) **clientes fechem negócio**, ou 31% da base indicada. "
   ]
  },
  {
   "cell_type": "markdown",
   "metadata": {},
   "source": [
    "## Resultados"
   ]
  },
  {
   "cell_type": "code",
   "execution_count": 43,
   "metadata": {
    "ExecuteTime": {
     "end_time": "2020-11-11T16:18:49.494520Z",
     "start_time": "2020-11-11T16:18:49.483550Z"
    }
   },
   "outputs": [
    {
     "name": "stdout",
     "output_type": "stream",
     "text": [
      "Total de negócios fechados: 631\n"
     ]
    }
   ],
   "source": [
    "# Após a campanha tivemos o seguinte resultado\n",
    "X_val['y'] = y_val\n",
    "\n",
    "resultado = X_val.sort_values(by=['y_probas'])\n",
    "resultado = resultado.tail(2000)\n",
    "\n",
    "print(f\"Total de negócios fechados: {resultado.y.sum()}\")"
   ]
  },
  {
   "cell_type": "markdown",
   "metadata": {},
   "source": [
    "Mas onde entra a matemática nisso tudo? Parece que é só rodar uns códigos."
   ]
  }
 ],
 "metadata": {
  "kernelspec": {
   "display_name": "Python 3",
   "language": "python",
   "name": "python3"
  },
  "language_info": {
   "codemirror_mode": {
    "name": "ipython",
    "version": 3
   },
   "file_extension": ".py",
   "mimetype": "text/x-python",
   "name": "python",
   "nbconvert_exporter": "python",
   "pygments_lexer": "ipython3",
   "version": "3.8.3"
  },
  "toc": {
   "base_numbering": 1,
   "nav_menu": {},
   "number_sections": true,
   "sideBar": true,
   "skip_h1_title": false,
   "title_cell": "Table of Contents",
   "title_sidebar": "Contents",
   "toc_cell": false,
   "toc_position": {},
   "toc_section_display": true,
   "toc_window_display": false
  }
 },
 "nbformat": 4,
 "nbformat_minor": 4
}
